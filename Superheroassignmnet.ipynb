{
  "nbformat": 4,
  "nbformat_minor": 0,
  "metadata": {
    "colab": {
      "provenance": []
    },
    "kernelspec": {
      "name": "python3",
      "display_name": "Python 3"
    },
    "language_info": {
      "name": "python"
    }
  },
  "cells": [
    {
      "cell_type": "code",
      "execution_count": 85,
      "metadata": {
        "id": "ogK0UDEIxtsJ",
        "colab": {
          "base_uri": "https://localhost:8080/"
        },
        "outputId": "5ddc742a-8c76-4964-8f67-7dbc8dd3522e"
      },
      "outputs": [
        {
          "output_type": "stream",
          "name": "stdout",
          "text": [
            "Database connected successfully!\n"
          ]
        }
      ],
      "source": [
        "#Group: Dan Bezabhe, Yeabsira Sahlu\n",
        "import sqlite3\n",
        "\n",
        "connection = sqlite3.connect('superhero_db.sqlite')\n",
        "cursor = connection.cursor()\n",
        "\n",
        "print(\"Database connected successfully!\")\n"
      ]
    },
    {
      "cell_type": "code",
      "source": [
        "cursor.execute(\"DROP TABLE IF EXISTS battles;\")\n",
        "cursor.execute(\"DROP TABLE IF EXISTS heroes;\")\n",
        "cursor.execute(\"DROP TABLE IF EXISTS villains;\")\n",
        "\n",
        "cursor.execute('''\n",
        "    CREATE TABLE heroes (\n",
        "        id INTEGER PRIMARY KEY,\n",
        "        name TEXT NOT NULL,\n",
        "        power TEXT,\n",
        "        team TEXT\n",
        "    );\n",
        "''')\n",
        "\n",
        "cursor.execute('''\n",
        "    CREATE TABLE villains (\n",
        "        id INTEGER PRIMARY KEY,\n",
        "        name TEXT NOT NULL,\n",
        "        evil_plan TEXT\n",
        "    );\n",
        "''')\n",
        "\n",
        "cursor.execute('''\n",
        "    CREATE TABLE battles (\n",
        "        id INTEGER PRIMARY KEY,\n",
        "        hero_id INTEGER NOT NULL,\n",
        "        villain_id INTEGER NOT NULL,\n",
        "        outcome TEXT NOT NULL,\n",
        "        FOREIGN KEY (hero_id) REFERENCES heroes(id),\n",
        "        FOREIGN KEY (villain_id) REFERENCES villains(id)\n",
        "    );\n",
        "''')\n",
        "\n",
        "print(\"tables created successfully\")\n"
      ],
      "metadata": {
        "colab": {
          "base_uri": "https://localhost:8080/"
        },
        "id": "r6fBttavzKTr",
        "outputId": "f805c338-a58f-4b7c-aaed-76af4bf00b98"
      },
      "execution_count": 86,
      "outputs": [
        {
          "output_type": "stream",
          "name": "stdout",
          "text": [
            "tables created successfully\n"
          ]
        }
      ]
    },
    {
      "cell_type": "code",
      "source": [
        "import csv\n",
        "\n",
        "heroes_data = []\n",
        "villains_data = []\n",
        "battles_data = []\n",
        "\n",
        "with open('heroes.csv', 'r') as f:\n",
        "    reader = csv.DictReader(f)\n",
        "    for row in reader:\n",
        "        heroes_data.append((\n",
        "            int(row['id']),\n",
        "            row['name'],\n",
        "            row['power'],\n",
        "            row['team']\n",
        "        ))\n",
        "\n",
        "with open('villains.csv', 'r') as f:\n",
        "    reader = csv.DictReader(f)\n",
        "    for row in reader:\n",
        "        villains_data.append((\n",
        "            int(row['id']),\n",
        "            row['name'],\n",
        "            row['evil_plan']\n",
        "        ))\n",
        "\n",
        "with open('battles.csv', 'r') as f:\n",
        "    reader = csv.DictReader(f)\n",
        "    for row in reader:\n",
        "        battles_data.append((\n",
        "            int(row['id']),\n",
        "            int(row['hero_id']),\n",
        "            int(row['villain_id']),\n",
        "            row['outcome']\n",
        "        ))\n",
        "\n",
        "print(\"CSV files loaded into Python lists\")\n"
      ],
      "metadata": {
        "colab": {
          "base_uri": "https://localhost:8080/"
        },
        "id": "4LN3MdgEzPC1",
        "outputId": "aa12b844-7ae0-4e59-a59a-4208a7dec108"
      },
      "execution_count": 87,
      "outputs": [
        {
          "output_type": "stream",
          "name": "stdout",
          "text": [
            "CSV files loaded into Python lists\n"
          ]
        }
      ]
    },
    {
      "cell_type": "code",
      "source": [
        "cursor.executemany('''\n",
        "    INSERT INTO heroes (id, name, power, team)\n",
        "    VALUES (?, ?, ?, ?);\n",
        "''', heroes_data)\n",
        "\n",
        "cursor.executemany('''\n",
        "    INSERT INTO villains (id, name, evil_plan)\n",
        "    VALUES (?, ?, ?);\n",
        "''', villains_data)\n",
        "\n",
        "cursor.executemany('''\n",
        "    INSERT INTO battles (id, hero_id, villain_id, outcome)\n",
        "    VALUES (?, ?, ?, ?);\n",
        "''', battles_data)\n",
        "\n",
        "connection.commit()\n",
        "\n",
        "print(\"data inserted successfully into heroes, villains, and battles\")\n"
      ],
      "metadata": {
        "colab": {
          "base_uri": "https://localhost:8080/"
        },
        "id": "HoTXtLk-zTyo",
        "outputId": "7e840da7-58af-46c6-f2c2-10e357faa5ac"
      },
      "execution_count": 88,
      "outputs": [
        {
          "output_type": "stream",
          "name": "stdout",
          "text": [
            "data inserted successfully into heroes, villains, and battles\n"
          ]
        }
      ]
    },
    {
      "cell_type": "code",
      "source": [
        "print(\"Retrieve all superheroes and their powers.\")\n",
        "cursor.execute(\"SELECT name, power FROM heroes;\")\n",
        "rows = cursor.fetchall()\n",
        "for (hero_name, power) in rows:\n",
        "    print(f\"Hero: {hero_name}, Power: {power}\")\n",
        "\n"
      ],
      "metadata": {
        "colab": {
          "base_uri": "https://localhost:8080/"
        },
        "id": "GkoH4Wlc1tG9",
        "outputId": "ad54f856-a4fb-4cfb-af76-1c49d7574054"
      },
      "execution_count": 89,
      "outputs": [
        {
          "output_type": "stream",
          "name": "stdout",
          "text": [
            "Retrieve all superheroes and their powers.\n",
            "Hero: Spider-Man, Power: Web-slinging\n",
            "Hero: Iron Man, Power: Powered Armor\n",
            "Hero: Batman, Power: Genius Detective\n",
            "Hero: Superman, Power: Super Strength\n",
            "Hero: Thor, Power: God of Thunder\n",
            "Hero: Wonder Woman, Power: Amazonian Strength\n",
            "Hero: Black Panther, Power: Enhanced Agility\n",
            "Hero: The Flash, Power: Super Speed\n",
            "Hero: Hulk, Power: Super Strength\n",
            "Hero: Doctor Strange, Power: Mystic Arts\n"
          ]
        }
      ]
    },
    {
      "cell_type": "code",
      "source": [
        "print(\"Find all battles where the hero won.\")\n",
        "cursor.execute('''\n",
        "    SELECT b.id, h.name AS hero_name, v.name AS villain_name, b.outcome\n",
        "    FROM battles b\n",
        "    JOIN heroes h ON b.hero_id = h.id\n",
        "    JOIN villains v ON b.villain_id = v.id\n",
        "    WHERE b.outcome = \"Hero Wins\";\n",
        "''')\n",
        "rows = cursor.fetchall()\n",
        "for battle_id, hero_name, villain_name, outcome in rows:\n",
        "    print(f\"Battle {battle_id}: {hero_name} vs {villain_name}, Outcome: {outcome}\")\n"
      ],
      "metadata": {
        "colab": {
          "base_uri": "https://localhost:8080/"
        },
        "id": "ICpOcgD1167e",
        "outputId": "156172b9-f3f8-4d97-dddc-572c61826553"
      },
      "execution_count": 90,
      "outputs": [
        {
          "output_type": "stream",
          "name": "stdout",
          "text": [
            "Find all battles where the hero won.\n",
            "Battle 2: Hulk vs Joker, Outcome: Hero Wins\n",
            "Battle 5: Spider-Man vs Darkseid, Outcome: Hero Wins\n",
            "Battle 7: Hulk vs Venom, Outcome: Hero Wins\n",
            "Battle 8: Batman vs Thanos, Outcome: Hero Wins\n",
            "Battle 9: Black Panther vs Loki, Outcome: Hero Wins\n",
            "Battle 13: The Flash vs Magneto, Outcome: Hero Wins\n",
            "Battle 20: Batman vs Lex Luthor, Outcome: Hero Wins\n",
            "Battle 29: Batman vs Loki, Outcome: Hero Wins\n",
            "Battle 30: Thor vs Loki, Outcome: Hero Wins\n"
          ]
        }
      ]
    },
    {
      "cell_type": "code",
      "source": [
        "print(\"List all villains and their evil plans.\")\n",
        "cursor.execute(\"SELECT name, evil_plan FROM villains;\")\n",
        "rows = cursor.fetchall()\n",
        "for villain_name, plan in rows:\n",
        "    print(f\"Villain: {villain_name}, Evil Plan: {plan}\")\n"
      ],
      "metadata": {
        "colab": {
          "base_uri": "https://localhost:8080/"
        },
        "id": "QQBvUFsn1-PU",
        "outputId": "bae672ad-10df-40b6-bbc4-b7e51960f5a8"
      },
      "execution_count": 91,
      "outputs": [
        {
          "output_type": "stream",
          "name": "stdout",
          "text": [
            "List all villains and their evil plans.\n",
            "Villain: Green Goblin, Evil Plan: Terrorize New York\n",
            "Villain: Thanos, Evil Plan: Collect all Infinity Stones\n",
            "Villain: Joker, Evil Plan: Spread chaos in Gotham\n",
            "Villain: Lex Luthor, Evil Plan: Defeat Superman\n",
            "Villain: Loki, Evil Plan: Trick humanity into worshiping him\n",
            "Villain: Ultron, Evil Plan: AI world domination\n",
            "Villain: Darkseid, Evil Plan: Control the universe\n",
            "Villain: Venom, Evil Plan: Consume Spider-Man\n",
            "Villain: Magneto, Evil Plan: Mutant supremacy\n",
            "Villain: Red Skull, Evil Plan: Revive Hydra\n"
          ]
        }
      ]
    },
    {
      "cell_type": "code",
      "source": [
        "print(\"Determine which superhero has fought the most battles.\")\n",
        "cursor.execute('''\n",
        "    SELECT h.name, COUNT(*) AS total_battles\n",
        "    FROM battles b\n",
        "    JOIN heroes h ON b.hero_id = h.id\n",
        "    GROUP BY h.id\n",
        "    ORDER BY total_battles DESC\n",
        "    LIMIT 1;\n",
        "''')\n",
        "row = cursor.fetchone()\n",
        "if row:\n",
        "    hero_name, total_battles = row\n",
        "    print(f\"{hero_name} has fought the most battles ({total_battles}).\")\n",
        "else:\n",
        "    print(\"No battles found.\")\n"
      ],
      "metadata": {
        "colab": {
          "base_uri": "https://localhost:8080/"
        },
        "id": "gzgftT3u2Hzu",
        "outputId": "bcd04db2-6e86-4a23-9e93-be1884154dc9"
      },
      "execution_count": 92,
      "outputs": [
        {
          "output_type": "stream",
          "name": "stdout",
          "text": [
            "Determine which superhero has fought the most battles.\n",
            "Batman has fought the most battles (7).\n"
          ]
        }
      ]
    },
    {
      "cell_type": "code",
      "source": [
        "print(\"Battle locations table: \")\n",
        "\n",
        "\n",
        "cursor.execute(\"DROP TABLE IF EXISTS battle_locations;\")\n",
        "\n",
        "cursor.execute('''\n",
        "    CREATE TABLE battle_locations (\n",
        "        location_id INTEGER PRIMARY KEY AUTOINCREMENT,\n",
        "        battle_id INTEGER NOT NULL,\n",
        "        location_name TEXT NOT NULL,\n",
        "        FOREIGN KEY(battle_id) REFERENCES battles(id)\n",
        "    );\n",
        "''')\n",
        "\n",
        "battle_locations_data = [\n",
        "    (1, \"New York City\"),\n",
        "    (2, \"Gotham City\"),\n",
        "    (3, \"Metropolis\"),\n",
        "\n",
        "]\n",
        "\n",
        "cursor.executemany('''\n",
        "    INSERT INTO battle_locations (battle_id, location_name)\n",
        "    VALUES (?, ?);\n",
        "''', battle_locations_data)\n",
        "\n",
        "connection.commit()\n",
        "\n",
        "print(\"Sample data inserted into battle_locations.\")\n",
        "\n",
        "\n",
        "print(\"battle_locations table created successfully!\")\n",
        "\n"
      ],
      "metadata": {
        "colab": {
          "base_uri": "https://localhost:8080/"
        },
        "id": "evB0ov942VTW",
        "outputId": "87028c64-3d61-4f0d-a8ed-066e6a138b22"
      },
      "execution_count": 93,
      "outputs": [
        {
          "output_type": "stream",
          "name": "stdout",
          "text": [
            "Battle locations table: \n",
            "Sample data inserted into battle_locations.\n",
            "battle_locations table created successfully!\n"
          ]
        }
      ]
    },
    {
      "cell_type": "code",
      "source": [
        "print(\"Battles Locations: \")\n",
        "\n",
        "cursor.execute('''\n",
        "    SELECT b.id AS battle_id,\n",
        "           bl.location_name,\n",
        "           h.name AS hero,\n",
        "           v.name AS villain,\n",
        "           b.outcome\n",
        "    FROM battles b\n",
        "    JOIN battle_locations bl ON b.id = bl.battle_id\n",
        "    JOIN heroes h ON b.hero_id = h.id\n",
        "    JOIN villains v ON b.villain_id = v.id\n",
        "    ORDER BY b.id ASC;\n",
        "''')\n",
        "\n",
        "rows = cursor.fetchall()\n",
        "for battle_id, location_name, hero_name, villain_name, outcome in rows:\n",
        "    print(f\"Battle {battle_id} @ {location_name}: {hero_name} vs. {villain_name} => {outcome}\")\n",
        "\n"
      ],
      "metadata": {
        "colab": {
          "base_uri": "https://localhost:8080/"
        },
        "id": "3pzeh7bg2YR9",
        "outputId": "9583f4d3-65e9-4402-9498-8b73f5ec5623"
      },
      "execution_count": 94,
      "outputs": [
        {
          "output_type": "stream",
          "name": "stdout",
          "text": [
            "Battles Locations: \n",
            "Battle 1 @ New York City: Spider-Man vs. Red Skull => Villain Wins\n",
            "Battle 2 @ Gotham City: Hulk vs. Joker => Hero Wins\n",
            "Battle 3 @ Metropolis: The Flash vs. Green Goblin => Draw\n"
          ]
        }
      ]
    },
    {
      "cell_type": "code",
      "source": [
        "connection.close()"
      ],
      "metadata": {
        "id": "3Ls-H04h43lM"
      },
      "execution_count": 95,
      "outputs": []
    }
  ]
}