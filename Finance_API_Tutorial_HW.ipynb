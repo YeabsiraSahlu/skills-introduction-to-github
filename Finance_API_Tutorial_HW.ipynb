{
  "nbformat": 4,
  "nbformat_minor": 0,
  "metadata": {
    "colab": {
      "provenance": []
    },
    "kernelspec": {
      "name": "python3",
      "display_name": "Python 3"
    },
    "language_info": {
      "name": "python"
    }
  },
  "cells": [
    {
      "cell_type": "code",
      "execution_count": 8,
      "metadata": {
        "colab": {
          "base_uri": "https://localhost:8080/"
        },
        "id": "SCBtYJT29ml0",
        "outputId": "2e02ff0f-d86f-4a8a-f08c-5ee8151e63c5"
      },
      "outputs": [
        {
          "output_type": "stream",
          "name": "stdout",
          "text": [
            "Enter stock symbols separated by commas: DNLI\n",
            "\n",
            "Stock Data:\n",
            "Stock Ticker: DNLI, Company: Denali Therapeutics Inc., Current Market Price: $18.89, 52 Week High: $33.33, 52 Week Low: $14.56\n"
          ]
        }
      ],
      "source": [
        "import requests\n",
        "import json\n",
        "import pandas as pd\n",
        "\n",
        "def fetch_stock_data(stock_symbols):\n",
        "    api_key = \"FIewCG5hprmuNwwXCrWf5UIj1dsnnGC5ph7H4zVc\"\n",
        "    url = \"https://yfapi.net/v6/finance/quote\"\n",
        "    querystring = {\"symbols\": \",\".join(stock_symbols)}\n",
        "    headers = {\"x-api-key\": api_key}\n",
        "\n",
        "    response = requests.get(url, headers=headers, params=querystring)\n",
        "\n",
        "    try:\n",
        "        data = response.json()\n",
        "        if \"quoteResponse\" not in data or \"result\" not in data[\"quoteResponse\"]:\n",
        "            print(\"Error: 'quoteResponse' not found in API response.\")\n",
        "            return []\n",
        "\n",
        "        stocks_info = []\n",
        "        for stock in data[\"quoteResponse\"][\"result\"]:\n",
        "            stocks_info.append({\n",
        "                \"Stock Ticker\": stock.get(\"symbol\", \"N/A\"),\n",
        "                \"Company\": stock.get(\"shortName\", \"N/A\"),\n",
        "                \"Current Market Price\": f\"${stock.get('regularMarketPrice', 'N/A')}\",\n",
        "                \"52 Week High\": f\"${stock.get('fiftyTwoWeekHigh', 'N/A')}\",\n",
        "                \"52 Week Low\": f\"${stock.get('fiftyTwoWeekLow', 'N/A')}\"\n",
        "            })\n",
        "\n",
        "        return stocks_info\n",
        "    except json.JSONDecodeError:\n",
        "        print(\"Error: Failed to parse JSON response.\")\n",
        "        return []\n",
        "\n",
        "if __name__ == \"__main__\":\n",
        "    stock_symbols = input(\"Enter stock symbols separated by commas: \").split(\",\")\n",
        "    stock_data = fetch_stock_data(stock_symbols)\n",
        "\n",
        "    if stock_data:\n",
        "        print(\"\\nStock Data:\")\n",
        "        for stock in stock_data:\n",
        "            print(f\"Stock Ticker: {stock['Stock Ticker']}, Company: {stock['Company']}, \"\n",
        "                  f\"Current Market Price: {stock['Current Market Price']}, \"\n",
        "                  f\"52 Week High: {stock['52 Week High']}, 52 Week Low: {stock['52 Week Low']}\")\n",
        "    else:\n",
        "        print(\"No data retrieved. Check your API key and stock symbols.\")"
      ]
    }
  ]
}